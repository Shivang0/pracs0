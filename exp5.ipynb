{
 "cells": [
  {
   "cell_type": "markdown",
   "metadata": {},
   "source": [
    "K-Meteoid Clustering Method (PAM)\n",
    "partition around meteoid\n"
   ]
  },
  {
   "cell_type": "code",
   "execution_count": 33,
   "metadata": {},
   "outputs": [],
   "source": [
    "import pandas as pd\n",
    "import numpy as np\n",
    "import matplotlib.pyplot as plt\n",
    "from mpl_toolkits.mplot3d import Axes3D\n",
    "from sklearn import datasets\n",
    "from sklearn.decomposition import PCA\n",
    "import seaborn as sns"
   ]
  },
  {
   "cell_type": "code",
   "execution_count": 58,
   "metadata": {},
   "outputs": [],
   "source": [
    "info = {'x':[8,3,4,9,8,5,7,8,7,4],\n",
    "        'y':[7,7,9,6,5,8,3,4,5,5]\n",
    "       }"
   ]
  },
  {
   "cell_type": "code",
   "execution_count": 59,
   "metadata": {},
   "outputs": [
    {
     "data": {
      "text/html": [
       "<div>\n",
       "<style scoped>\n",
       "    .dataframe tbody tr th:only-of-type {\n",
       "        vertical-align: middle;\n",
       "    }\n",
       "\n",
       "    .dataframe tbody tr th {\n",
       "        vertical-align: top;\n",
       "    }\n",
       "\n",
       "    .dataframe thead th {\n",
       "        text-align: right;\n",
       "    }\n",
       "</style>\n",
       "<table border=\"1\" class=\"dataframe\">\n",
       "  <thead>\n",
       "    <tr style=\"text-align: right;\">\n",
       "      <th></th>\n",
       "      <th>x</th>\n",
       "      <th>y</th>\n",
       "    </tr>\n",
       "  </thead>\n",
       "  <tbody>\n",
       "    <tr>\n",
       "      <th>0</th>\n",
       "      <td>8</td>\n",
       "      <td>7</td>\n",
       "    </tr>\n",
       "    <tr>\n",
       "      <th>1</th>\n",
       "      <td>3</td>\n",
       "      <td>7</td>\n",
       "    </tr>\n",
       "    <tr>\n",
       "      <th>2</th>\n",
       "      <td>4</td>\n",
       "      <td>9</td>\n",
       "    </tr>\n",
       "    <tr>\n",
       "      <th>3</th>\n",
       "      <td>9</td>\n",
       "      <td>6</td>\n",
       "    </tr>\n",
       "    <tr>\n",
       "      <th>4</th>\n",
       "      <td>8</td>\n",
       "      <td>5</td>\n",
       "    </tr>\n",
       "    <tr>\n",
       "      <th>5</th>\n",
       "      <td>5</td>\n",
       "      <td>8</td>\n",
       "    </tr>\n",
       "    <tr>\n",
       "      <th>6</th>\n",
       "      <td>7</td>\n",
       "      <td>3</td>\n",
       "    </tr>\n",
       "    <tr>\n",
       "      <th>7</th>\n",
       "      <td>8</td>\n",
       "      <td>4</td>\n",
       "    </tr>\n",
       "    <tr>\n",
       "      <th>8</th>\n",
       "      <td>7</td>\n",
       "      <td>5</td>\n",
       "    </tr>\n",
       "    <tr>\n",
       "      <th>9</th>\n",
       "      <td>4</td>\n",
       "      <td>5</td>\n",
       "    </tr>\n",
       "  </tbody>\n",
       "</table>\n",
       "</div>"
      ],
      "text/plain": [
       "   x  y\n",
       "0  8  7\n",
       "1  3  7\n",
       "2  4  9\n",
       "3  9  6\n",
       "4  8  5\n",
       "5  5  8\n",
       "6  7  3\n",
       "7  8  4\n",
       "8  7  5\n",
       "9  4  5"
      ]
     },
     "execution_count": 59,
     "metadata": {},
     "output_type": "execute_result"
    }
   ],
   "source": [
    "data = pd.DataFrame(info)\n",
    "data"
   ]
  },
  {
   "cell_type": "code",
   "execution_count": 61,
   "metadata": {},
   "outputs": [
    {
     "data": {
      "image/png": "[encoded data removed]",
      "text/plain": [
       "<Figure size 432x288 with 1 Axes>"
      ]
     },
     "metadata": {},
     "output_type": "display_data"
    }
   ],
   "source": [
    "data.plot.scatter(x='x',y='y',alpha=0.5,color = 'blue')\n",
    "plt.grid()\n",
    "sns.set_style('darkgrid')\n",
    "\n"
   ]
  },
  {
   "cell_type": "markdown",
   "metadata": {},
   "source": [
    "let us select two meteoids"
   ]
  },
  {
   "cell_type": "code",
   "execution_count": 62,
   "metadata": {},
   "outputs": [],
   "source": [
    "\n",
    "x1 = data['x'][9]\n",
    "y1 = data['y'][9]\n",
    "x2 = data['x'][4]\n",
    "y2 = data['y'][4]\n"
   ]
  },
  {
   "cell_type": "code",
   "execution_count": 51,
   "metadata": {},
   "outputs": [],
   "source": [
    "c1 = (x1,y1)\n",
    "c2 = (x2,y2)"
   ]
  },
  {
   "cell_type": "code",
   "execution_count": 52,
   "metadata": {},
   "outputs": [
    {
     "data": {
      "text/plain": [
       "(4, 5)"
      ]
     },
     "execution_count": 52,
     "metadata": {},
     "output_type": "execute_result"
    }
   ],
   "source": [
    "c1"
   ]
  },
  {
   "cell_type": "code",
   "execution_count": 53,
   "metadata": {},
   "outputs": [
    {
     "data": {
      "text/plain": [
       "(8, 5)"
      ]
     },
     "execution_count": 53,
     "metadata": {},
     "output_type": "execute_result"
    }
   ],
   "source": [
    "c2"
   ]
  },
  {
   "cell_type": "code",
   "execution_count": 63,
   "metadata": {},
   "outputs": [],
   "source": [
    "def kmedoids_run(X, n_clusters, dist_func, max_iter=1000, tol=0.001):\n",
    "    # Get initial Medoid\n",
    "    n_samples, n_features = X.shape\n",
    "    # Here get_medoid() function Return random objects as initial medoid\n",
    "    md = get_medoid(n_clusters,n_samples)             \n",
    "    if verbose:\n",
    "        print('Initial medoids are ', md)\n",
    "    medoids = md\n",
    "    # Here get_cost() function Return Total cost(dj) and cost of each cluster\n",
    "    members, costs, dj, dist_mat = get_cost(X, md,dist_func)    \n",
    "    swap = True\n",
    "    count = 0\n",
    "    while True:\n",
    "        swap = False\n",
    "        for i in range(n_samples):\n",
    "            if not i in medoids:\n",
    "                for j in range(len(medoids)):\n",
    "                    medoids_ = deepcopy(medoids)\n",
    "                    medoids_[j] = i\n",
    "                    # Here get_cost() function Return Total cost(di) and cost of each cluster\n",
    "                    members_, costs_, di, dist_mat_ = get_cost(X, medoids_,dist_func)\n",
    "                    if di-dj < tol:\n",
    "                        members, costs, dj, dist_mat = members_, costs_, di, dist_mat_\n",
    "                        medoids = medoids_\n",
    "                        swap = True\n",
    "                        print('Change medoids to ', medoids)\n",
    "        if count > max_iter:\n",
    "            print('End Searching by reaching maximum iteration', max_iter)\n",
    "            break\n",
    "        if not swap:\n",
    "            print('End Searching by no swaps')\n",
    "            break\n",
    "        count += 1\n",
    "    return medoids,members, costs, dj, dist_mat\n",
    "    # Return Final medoids , cost and members of each cluster and Final total cost(dj)\n"
   ]
  },
  {
   "cell_type": "code",
   "execution_count": 66,
   "metadata": {},
   "outputs": [
    {
     "ename": "SyntaxError",
     "evalue": "invalid syntax (3324856611.py, line 7)",
     "output_type": "error",
     "traceback": [
      "\u001b[1;36m  Input \u001b[1;32mIn [66]\u001b[1;36m\u001b[0m\n\u001b[1;33m    gower_mat = as.matrix(gower_dist)\u001b[0m\n\u001b[1;37m                ^\u001b[0m\n\u001b[1;31mSyntaxError\u001b[0m\u001b[1;31m:\u001b[0m invalid syntax\n"
     ]
    }
   ],
   "source": [
    "library(cluster) \n",
    "library(Rtsne)  \n",
    "library(ggplot2)\n",
    "data(iris)\n",
    "gower_dist = daisy(iris[-5],metric=\"gower\")\n",
    "summary(gower_dist)\n",
    "gower_mat = as.matrix(gower_dist)\n",
    "sil_width = c(NA)\n",
    "for(i in 2:10)\n",
    "{\n",
    "  pam_fit = pam(gower_dist, diss = TRUE, k=i)\n",
    "  sil_width[i] = pam_fit$silinfo$avg.width\n",
    "}\n",
    "plot(1:10,sil_width,xlab=\"Number of Clusters\",ylab=\"Silhouette width\")\n",
    "lines(1:10, sil_width)\n",
    "pam_fit = pam(gower_dist, diss=TRUE, k=3)\n",
    "iris$cluster = pam_fit$clustering\n",
    "tsne_obj = Rtsne(gower_dist,is_distance = TRUE)\n",
    "iris_plot = data.frame(tsne_obj$Y)\n",
    "names(iris_plot) = c(\"X\",\"Y\")\n",
    "iris_plot$cluster = as.factor(iris$cluster)\n",
    "ggplot(aes(x=X, y=Y), data=iris_plot) + geom_point(aes(color=cluster))\n"
   ]
  },
  {
   "cell_type": "code",
   "execution_count": null,
   "metadata": {},
   "outputs": [],
   "source": []
  }
 ],
 "metadata": {
  "interpreter": {
   "hash": "dcacb0086e9a4f4eabd41c33bf4faac5ea0a3337ed3f5eff0680afa930572c04"
  },
  "kernelspec": {
   "display_name": "Python 3.9.1 64-bit",
   "language": "python",
   "name": "python3"
  },
  "language_info": {
   "codemirror_mode": {
    "name": "ipython",
    "version": 3
   },
   "file_extension": ".py",
   "mimetype": "text/x-python",
   "name": "python",
   "nbconvert_exporter": "python",
   "pygments_lexer": "ipython3",
   "version": "3.9.1"
  },
  "orig_nbformat": 4
 },
 "nbformat": 4,
 "nbformat_minor": 2
}
